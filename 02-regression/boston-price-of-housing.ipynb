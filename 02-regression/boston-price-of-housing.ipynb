{
 "cells": [
  {
   "cell_type": "markdown",
   "id": "b5c90223",
   "metadata": {},
   "source": [
    "# Housing Price Prediction - Linear Regression Example\n",
    "\n",
    "This notebook will explore a complete machine learning workflow for predicting car prices using linear regression. We'll cover:\n",
    "- Data loading and preparation\n",
    "- Exploratory data analysis\n",
    "- Training/validation/test split\n",
    "- Linear regression implementation\n",
    "- Feature engineering\n",
    "- Model validation using RMSE\n",
    "- Regularization and hyperparameter tuning"
   ]
  },
  {
   "cell_type": "code",
   "execution_count": 1,
   "id": "886628f4",
   "metadata": {},
   "outputs": [],
   "source": [
    "# Import required libraries\n",
    "import pandas as pd\n",
    "import numpy as np\n",
    "import matplotlib.pyplot as plt\n",
    "import seaborn as sns\n",
    "\n",
    "# for skewness\n",
    "from scipy.stats import skew\n",
    "\n",
    "\n",
    "%matplotlib inline"
   ]
  },
  {
   "cell_type": "markdown",
   "id": "1279f314",
   "metadata": {},
   "source": [
    "## Data Loading and Preparation\n",
    "\n",
    "First, let's load our car price dataset and prepare it for analysis."
   ]
  },
  {
   "cell_type": "code",
   "execution_count": 2,
   "id": "3a66f78f",
   "metadata": {},
   "outputs": [],
   "source": [
    "data = 'https://gist.githubusercontent.com/inoccu/139294a0476751fbfd1cde4110edbbab/raw/eb2d487390a1d0ca29d2c0f3fef947a2a3505382/housing.csv'"
   ]
  },
  {
   "cell_type": "markdown",
   "id": "739d1b84",
   "metadata": {},
   "source": [
    "Variables in order:\n",
    " - CRIM     per capita crime rate by town\n",
    " - ZN       proportion of residential land zoned for lots over 25,000 sq.ft.\n",
    " - INDUS    proportion of non-retail business acres per town\n",
    " - CHAS     Charles River dummy variable (= 1 if tract bounds river; 0 otherwise)\n",
    " - NOX      nitric oxides concentration (parts per 10 million)\n",
    " - RM       average number of rooms per dwelling\n",
    " - AGE      proportion of owner-occupied units built prior to 1940\n",
    " - DIS      weighted distances to five Boston employment centres\n",
    " - RAD      index of accessibility to radial highways\n",
    " - TAX      full-value property-tax rate per $10,000\n",
    " - PTRATIO  pupil-teacher ratio by town\n",
    " - B        1000(Bk - 0.63)^2 where Bk is the proportion of blacks by town\n",
    " - LSTAT    % lower status of the population\n",
    " - MEDV     Median value of owner-occupied homes in $1000's"
   ]
  },
  {
   "cell_type": "code",
   "execution_count": 3,
   "id": "c0db34a9",
   "metadata": {},
   "outputs": [
    {
     "name": "stdout",
     "output_type": "stream",
     "text": [
      "Original column names:\n",
      "Index(['CRIM', 'ZN', 'INDUS', 'CHAS', 'NOX', 'RM', 'AGE', 'DIS', 'RAD', 'TAX',\n",
      "       'PTRATIO', 'B', 'LSTAT', 'MEDV'],\n",
      "      dtype='object')\n",
      "\n",
      "Cleaned column names:\n",
      "Index(['crim', 'zn', 'indus', 'chas', 'nox', 'rm', 'age', 'dis', 'rad', 'tax',\n",
      "       'ptratio', 'b', 'lstat', 'medv'],\n",
      "      dtype='object')\n"
     ]
    }
   ],
   "source": [
    "# Download the data using wget\n",
    "# !wget $data -O dataset.csv\n",
    "\n",
    "# Read the CSV file into a pandas DataFrame\n",
    "df = pd.read_csv('dataset.csv')\n",
    "\n",
    "# Display the column names to see what features we have\n",
    "print(\"Original column names:\")\n",
    "print(df.columns)\n",
    "\n",
    "# Clean up column names:\n",
    "# - Convert to lowercase\n",
    "# - Replace spaces with underscores\n",
    "df.columns = df.columns.str.lower().str.replace(' ', '_')\n",
    "\n",
    "print(\"\\nCleaned column names:\")\n",
    "print(df.columns)"
   ]
  },
  {
   "cell_type": "code",
   "execution_count": 4,
   "id": "8396e981",
   "metadata": {},
   "outputs": [
    {
     "data": {
      "text/html": [
       "<div>\n",
       "<style scoped>\n",
       "    .dataframe tbody tr th:only-of-type {\n",
       "        vertical-align: middle;\n",
       "    }\n",
       "\n",
       "    .dataframe tbody tr th {\n",
       "        vertical-align: top;\n",
       "    }\n",
       "\n",
       "    .dataframe thead th {\n",
       "        text-align: right;\n",
       "    }\n",
       "</style>\n",
       "<table border=\"1\" class=\"dataframe\">\n",
       "  <thead>\n",
       "    <tr style=\"text-align: right;\">\n",
       "      <th></th>\n",
       "      <th>crim</th>\n",
       "      <th>zn</th>\n",
       "      <th>indus</th>\n",
       "      <th>chas</th>\n",
       "      <th>nox</th>\n",
       "      <th>rm</th>\n",
       "      <th>age</th>\n",
       "      <th>dis</th>\n",
       "      <th>rad</th>\n",
       "      <th>tax</th>\n",
       "      <th>ptratio</th>\n",
       "      <th>b</th>\n",
       "      <th>lstat</th>\n",
       "      <th>medv</th>\n",
       "    </tr>\n",
       "  </thead>\n",
       "  <tbody>\n",
       "    <tr>\n",
       "      <th>0</th>\n",
       "      <td>0.00632</td>\n",
       "      <td>18.0</td>\n",
       "      <td>2.31</td>\n",
       "      <td>0</td>\n",
       "      <td>0.538</td>\n",
       "      <td>6.575</td>\n",
       "      <td>65.2</td>\n",
       "      <td>4.0900</td>\n",
       "      <td>1</td>\n",
       "      <td>296.0</td>\n",
       "      <td>15.3</td>\n",
       "      <td>396.90</td>\n",
       "      <td>4.98</td>\n",
       "      <td>24.0</td>\n",
       "    </tr>\n",
       "    <tr>\n",
       "      <th>1</th>\n",
       "      <td>0.02731</td>\n",
       "      <td>0.0</td>\n",
       "      <td>7.07</td>\n",
       "      <td>0</td>\n",
       "      <td>0.469</td>\n",
       "      <td>6.421</td>\n",
       "      <td>78.9</td>\n",
       "      <td>4.9671</td>\n",
       "      <td>2</td>\n",
       "      <td>242.0</td>\n",
       "      <td>17.8</td>\n",
       "      <td>396.90</td>\n",
       "      <td>9.14</td>\n",
       "      <td>21.6</td>\n",
       "    </tr>\n",
       "    <tr>\n",
       "      <th>2</th>\n",
       "      <td>0.02729</td>\n",
       "      <td>0.0</td>\n",
       "      <td>7.07</td>\n",
       "      <td>0</td>\n",
       "      <td>0.469</td>\n",
       "      <td>7.185</td>\n",
       "      <td>61.1</td>\n",
       "      <td>4.9671</td>\n",
       "      <td>2</td>\n",
       "      <td>242.0</td>\n",
       "      <td>17.8</td>\n",
       "      <td>392.83</td>\n",
       "      <td>4.03</td>\n",
       "      <td>34.7</td>\n",
       "    </tr>\n",
       "    <tr>\n",
       "      <th>3</th>\n",
       "      <td>0.03237</td>\n",
       "      <td>0.0</td>\n",
       "      <td>2.18</td>\n",
       "      <td>0</td>\n",
       "      <td>0.458</td>\n",
       "      <td>6.998</td>\n",
       "      <td>45.8</td>\n",
       "      <td>6.0622</td>\n",
       "      <td>3</td>\n",
       "      <td>222.0</td>\n",
       "      <td>18.7</td>\n",
       "      <td>394.63</td>\n",
       "      <td>2.94</td>\n",
       "      <td>33.4</td>\n",
       "    </tr>\n",
       "    <tr>\n",
       "      <th>4</th>\n",
       "      <td>0.06905</td>\n",
       "      <td>0.0</td>\n",
       "      <td>2.18</td>\n",
       "      <td>0</td>\n",
       "      <td>0.458</td>\n",
       "      <td>7.147</td>\n",
       "      <td>54.2</td>\n",
       "      <td>6.0622</td>\n",
       "      <td>3</td>\n",
       "      <td>222.0</td>\n",
       "      <td>18.7</td>\n",
       "      <td>396.90</td>\n",
       "      <td>5.33</td>\n",
       "      <td>36.2</td>\n",
       "    </tr>\n",
       "    <tr>\n",
       "      <th>...</th>\n",
       "      <td>...</td>\n",
       "      <td>...</td>\n",
       "      <td>...</td>\n",
       "      <td>...</td>\n",
       "      <td>...</td>\n",
       "      <td>...</td>\n",
       "      <td>...</td>\n",
       "      <td>...</td>\n",
       "      <td>...</td>\n",
       "      <td>...</td>\n",
       "      <td>...</td>\n",
       "      <td>...</td>\n",
       "      <td>...</td>\n",
       "      <td>...</td>\n",
       "    </tr>\n",
       "    <tr>\n",
       "      <th>501</th>\n",
       "      <td>0.06263</td>\n",
       "      <td>0.0</td>\n",
       "      <td>11.93</td>\n",
       "      <td>0</td>\n",
       "      <td>0.573</td>\n",
       "      <td>6.593</td>\n",
       "      <td>69.1</td>\n",
       "      <td>2.4786</td>\n",
       "      <td>1</td>\n",
       "      <td>273.0</td>\n",
       "      <td>21.0</td>\n",
       "      <td>391.99</td>\n",
       "      <td>9.67</td>\n",
       "      <td>22.4</td>\n",
       "    </tr>\n",
       "    <tr>\n",
       "      <th>502</th>\n",
       "      <td>0.04527</td>\n",
       "      <td>0.0</td>\n",
       "      <td>11.93</td>\n",
       "      <td>0</td>\n",
       "      <td>0.573</td>\n",
       "      <td>6.120</td>\n",
       "      <td>76.7</td>\n",
       "      <td>2.2875</td>\n",
       "      <td>1</td>\n",
       "      <td>273.0</td>\n",
       "      <td>21.0</td>\n",
       "      <td>396.90</td>\n",
       "      <td>9.08</td>\n",
       "      <td>20.6</td>\n",
       "    </tr>\n",
       "    <tr>\n",
       "      <th>503</th>\n",
       "      <td>0.06076</td>\n",
       "      <td>0.0</td>\n",
       "      <td>11.93</td>\n",
       "      <td>0</td>\n",
       "      <td>0.573</td>\n",
       "      <td>6.976</td>\n",
       "      <td>91.0</td>\n",
       "      <td>2.1675</td>\n",
       "      <td>1</td>\n",
       "      <td>273.0</td>\n",
       "      <td>21.0</td>\n",
       "      <td>396.90</td>\n",
       "      <td>5.64</td>\n",
       "      <td>23.9</td>\n",
       "    </tr>\n",
       "    <tr>\n",
       "      <th>504</th>\n",
       "      <td>0.10959</td>\n",
       "      <td>0.0</td>\n",
       "      <td>11.93</td>\n",
       "      <td>0</td>\n",
       "      <td>0.573</td>\n",
       "      <td>6.794</td>\n",
       "      <td>89.3</td>\n",
       "      <td>2.3889</td>\n",
       "      <td>1</td>\n",
       "      <td>273.0</td>\n",
       "      <td>21.0</td>\n",
       "      <td>393.45</td>\n",
       "      <td>6.48</td>\n",
       "      <td>22.0</td>\n",
       "    </tr>\n",
       "    <tr>\n",
       "      <th>505</th>\n",
       "      <td>0.04741</td>\n",
       "      <td>0.0</td>\n",
       "      <td>11.93</td>\n",
       "      <td>0</td>\n",
       "      <td>0.573</td>\n",
       "      <td>6.030</td>\n",
       "      <td>80.8</td>\n",
       "      <td>2.5050</td>\n",
       "      <td>1</td>\n",
       "      <td>273.0</td>\n",
       "      <td>21.0</td>\n",
       "      <td>396.90</td>\n",
       "      <td>7.88</td>\n",
       "      <td>11.9</td>\n",
       "    </tr>\n",
       "  </tbody>\n",
       "</table>\n",
       "<p>506 rows × 14 columns</p>\n",
       "</div>"
      ],
      "text/plain": [
       "        crim    zn  indus  chas    nox     rm   age     dis  rad    tax  \\\n",
       "0    0.00632  18.0   2.31     0  0.538  6.575  65.2  4.0900    1  296.0   \n",
       "1    0.02731   0.0   7.07     0  0.469  6.421  78.9  4.9671    2  242.0   \n",
       "2    0.02729   0.0   7.07     0  0.469  7.185  61.1  4.9671    2  242.0   \n",
       "3    0.03237   0.0   2.18     0  0.458  6.998  45.8  6.0622    3  222.0   \n",
       "4    0.06905   0.0   2.18     0  0.458  7.147  54.2  6.0622    3  222.0   \n",
       "..       ...   ...    ...   ...    ...    ...   ...     ...  ...    ...   \n",
       "501  0.06263   0.0  11.93     0  0.573  6.593  69.1  2.4786    1  273.0   \n",
       "502  0.04527   0.0  11.93     0  0.573  6.120  76.7  2.2875    1  273.0   \n",
       "503  0.06076   0.0  11.93     0  0.573  6.976  91.0  2.1675    1  273.0   \n",
       "504  0.10959   0.0  11.93     0  0.573  6.794  89.3  2.3889    1  273.0   \n",
       "505  0.04741   0.0  11.93     0  0.573  6.030  80.8  2.5050    1  273.0   \n",
       "\n",
       "     ptratio       b  lstat  medv  \n",
       "0       15.3  396.90   4.98  24.0  \n",
       "1       17.8  396.90   9.14  21.6  \n",
       "2       17.8  392.83   4.03  34.7  \n",
       "3       18.7  394.63   2.94  33.4  \n",
       "4       18.7  396.90   5.33  36.2  \n",
       "..       ...     ...    ...   ...  \n",
       "501     21.0  391.99   9.67  22.4  \n",
       "502     21.0  396.90   9.08  20.6  \n",
       "503     21.0  396.90   5.64  23.9  \n",
       "504     21.0  393.45   6.48  22.0  \n",
       "505     21.0  396.90   7.88  11.9  \n",
       "\n",
       "[506 rows x 14 columns]"
      ]
     },
     "execution_count": 4,
     "metadata": {},
     "output_type": "execute_result"
    }
   ],
   "source": [
    "df"
   ]
  },
  {
   "cell_type": "code",
   "execution_count": 5,
   "id": "43a041be",
   "metadata": {},
   "outputs": [
    {
     "data": {
      "text/plain": [
       "crim       float64\n",
       "zn         float64\n",
       "indus      float64\n",
       "chas         int64\n",
       "nox        float64\n",
       "rm         float64\n",
       "age        float64\n",
       "dis        float64\n",
       "rad          int64\n",
       "tax        float64\n",
       "ptratio    float64\n",
       "b          float64\n",
       "lstat      float64\n",
       "medv       float64\n",
       "dtype: object"
      ]
     },
     "execution_count": 5,
     "metadata": {},
     "output_type": "execute_result"
    }
   ],
   "source": [
    "df.dtypes\n",
    "\n",
    "# chas is categorical variable (0 or 1)"
   ]
  },
  {
   "cell_type": "markdown",
   "id": "e222c66d",
   "metadata": {},
   "source": [
    "## Exploratory Data Analysis (EDA)\n",
    "\n",
    "Let's explore our dataset to better understand our features and target variable (medv)."
   ]
  },
  {
   "cell_type": "code",
   "execution_count": 6,
   "id": "7a979df9",
   "metadata": {},
   "outputs": [
    {
     "name": "stdout",
     "output_type": "stream",
     "text": [
      "Column information:\n",
      "\n",
      "Column: crim\n",
      "First 5 unique values: [0.00632 0.02731 0.02729 0.03237 0.06905]\n",
      "Number of unique values: 504\n",
      "--------------------------------------------------\n",
      "\n",
      "Column: zn\n",
      "First 5 unique values: [18.   0.  12.5 75.  21. ]\n",
      "Number of unique values: 26\n",
      "--------------------------------------------------\n",
      "\n",
      "Column: indus\n",
      "First 5 unique values: [2.31 7.07 2.18 7.87 8.14]\n",
      "Number of unique values: 76\n",
      "--------------------------------------------------\n",
      "\n",
      "Column: chas\n",
      "First 5 unique values: [0 1]\n",
      "Number of unique values: 2\n",
      "--------------------------------------------------\n",
      "\n",
      "Column: nox\n",
      "First 5 unique values: [0.538 0.469 0.458 0.524 0.499]\n",
      "Number of unique values: 81\n",
      "--------------------------------------------------\n",
      "\n",
      "Column: rm\n",
      "First 5 unique values: [6.575 6.421 7.185 6.998 7.147]\n",
      "Number of unique values: 446\n",
      "--------------------------------------------------\n",
      "\n",
      "Column: age\n",
      "First 5 unique values: [65.2 78.9 61.1 45.8 54.2]\n",
      "Number of unique values: 356\n",
      "--------------------------------------------------\n",
      "\n",
      "Column: dis\n",
      "First 5 unique values: [4.09   4.9671 6.0622 5.5605 5.9505]\n",
      "Number of unique values: 412\n",
      "--------------------------------------------------\n",
      "\n",
      "Column: rad\n",
      "First 5 unique values: [1 2 3 5 4]\n",
      "Number of unique values: 9\n",
      "--------------------------------------------------\n",
      "\n",
      "Column: tax\n",
      "First 5 unique values: [296. 242. 222. 311. 307.]\n",
      "Number of unique values: 66\n",
      "--------------------------------------------------\n",
      "\n",
      "Column: ptratio\n",
      "First 5 unique values: [15.3 17.8 18.7 15.2 21. ]\n",
      "Number of unique values: 46\n",
      "--------------------------------------------------\n",
      "\n",
      "Column: b\n",
      "First 5 unique values: [396.9  392.83 394.63 394.12 395.6 ]\n",
      "Number of unique values: 357\n",
      "--------------------------------------------------\n",
      "\n",
      "Column: lstat\n",
      "First 5 unique values: [4.98 9.14 4.03 2.94 5.33]\n",
      "Number of unique values: 455\n",
      "--------------------------------------------------\n",
      "\n",
      "Column: medv\n",
      "First 5 unique values: [24.  21.6 34.7 33.4 36.2]\n",
      "Number of unique values: 229\n",
      "--------------------------------------------------\n",
      "\n",
      "Missing values in each column:\n",
      "crim       0\n",
      "zn         0\n",
      "indus      0\n",
      "chas       0\n",
      "nox        0\n",
      "rm         0\n",
      "age        0\n",
      "dis        0\n",
      "rad        0\n",
      "tax        0\n",
      "ptratio    0\n",
      "b          0\n",
      "lstat      0\n",
      "medv       0\n",
      "dtype: int64\n"
     ]
    }
   ],
   "source": [
    "# Display information about each column in our dataset\n",
    "print(\"Column information:\")\n",
    "for col in df.columns:\n",
    "    print(f\"\\nColumn: {col}\")\n",
    "    print(f\"First 5 unique values: {df[col].unique()[:5]}\")\n",
    "    print(f\"Number of unique values: {df[col].nunique()}\")\n",
    "    print(\"-\" * 50)\n",
    "\n",
    "# Check for missing values\n",
    "print(\"\\nMissing values in each column:\")\n",
    "print(df.isnull().sum())"
   ]
  },
  {
   "cell_type": "markdown",
   "id": "28cda9d9",
   "metadata": {},
   "source": [
    "Distribution of price"
   ]
  },
  {
   "cell_type": "code",
   "execution_count": 7,
   "id": "8d91d2a9",
   "metadata": {},
   "outputs": [
    {
     "data": {
      "text/plain": [
       "<Axes: xlabel='medv', ylabel='Count'>"
      ]
     },
     "execution_count": 7,
     "metadata": {},
     "output_type": "execute_result"
    },
    {
     "data": {
      "image/png": "[encoded data removed]",
      "text/plain": [
       "<Figure size 640x480 with 1 Axes>"
      ]
     },
     "metadata": {},
     "output_type": "display_data"
    }
   ],
   "source": [
    "sns.histplot(df.medv, bins=30)"
   ]
  },
  {
   "cell_type": "code",
   "execution_count": 8,
   "id": "60f39dd4",
   "metadata": {},
   "outputs": [
    {
     "name": "stdout",
     "output_type": "stream",
     "text": [
      "Skewness of 'medv': 1.104810822864635\n"
     ]
    }
   ],
   "source": [
    "#Checking for skewness\n",
    "print(\"Skewness of 'medv':\", skew(df.medv))"
   ]
  },
  {
   "cell_type": "markdown",
   "id": "a64cd939",
   "metadata": {},
   "source": [
    "Interpretation:\n",
    "- ≈ 0: roughly normal\n",
    "- '> 0: right-skewed (tail to the right, many low values)'\n",
    "- < 0: left-skewed (tail to the left, many high values)\n",
    "\n",
    "As a rule of thumb:\n",
    "- |skew| < 0.5 → fairly symmetric\n",
    "- 0.5 ≤ |skew| < 1 → moderately skewed\n",
    "- |skew| ≥ 1 → highly skewed"
   ]
  },
  {
   "cell_type": "markdown",
   "id": "61e1cfd7",
   "metadata": {},
   "source": [
    "## Data Splitting\n",
    "\n",
    "We'll split our data into three sets:\n",
    "- Training set (60%): Used to train the model\n",
    "- Validation set (20%): Used to tune hyperparameters\n",
    "- Test set (20%): Used for final model evaluation"
   ]
  },
  {
   "cell_type": "markdown",
   "id": "9e5bbaea",
   "metadata": {},
   "source": [
    "### Setting up the validation framework"
   ]
  },
  {
   "cell_type": "code",
   "execution_count": 9,
   "id": "9e863561",
   "metadata": {},
   "outputs": [],
   "source": [
    "# Calculate sizes for each split\n",
    "n = len(df)\n",
    "n_val = int(n * 0.2)  # 20% for validation\n",
    "n_test = int(n * 0.2)  # 20% for test\n",
    "n_train = n - n_val - n_test  # Remaining 60% for training\n",
    "\n",
    "# Create a random index array\n",
    "np.random.seed(2)  # Set seed for reproducibility\n",
    "idx = np.arange(n)\n",
    "np.random.shuffle(idx)\n",
    "\n",
    "# Split the data\n",
    "df_train = df.iloc[idx[:n_train]]\n",
    "df_val = df.iloc[idx[n_train:n_train+n_val]]\n",
    "df_test = df.iloc[idx[n_train+n_val:]]\n",
    "\n",
    "# Reset indices for each split\n",
    "df_train = df_train.reset_index(drop=True)\n",
    "df_val = df_val.reset_index(drop=True)\n",
    "df_test = df_test.reset_index(drop=True)\n",
    "\n",
    "# Transform target variable (medv) using log1p to handle skewness\n",
    "y_train = np.log1p(df_train.medv.values)\n",
    "y_val = np.log1p(df_val.medv.values)\n",
    "y_test = np.log1p(df_test.medv.values)\n",
    "\n",
    "# Remove target variable from feature DataFrames\n",
    "del df_train['medv']\n",
    "del df_val['medv']\n",
    "del df_test['medv']"
   ]
  },
  {
   "cell_type": "code",
   "execution_count": 10,
   "id": "7e60fcd8",
   "metadata": {},
   "outputs": [
    {
     "data": {
      "text/plain": [
       "(506, 101, 101, 304)"
      ]
     },
     "execution_count": 10,
     "metadata": {},
     "output_type": "execute_result"
    }
   ],
   "source": [
    "n, n_val, n_test, n_train"
   ]
  },
  {
   "cell_type": "code",
   "execution_count": 11,
   "id": "b5e76d4f",
   "metadata": {},
   "outputs": [
    {
     "data": {
      "text/plain": [
       "array([3.05400118, 2.79116511, 3.6454499 , 3.51154544, 2.28238239,\n",
       "       2.73436751, 3.13549422, 3.31781577, 2.77258872, 3.11351531,\n",
       "       3.41444261, 3.25037449, 3.13549422, 2.83907846, 2.70136121,\n",
       "       3.11794991, 3.12236492, 2.62466859, 2.10413415, 2.61006979,\n",
       "       3.07731226, 3.01062089, 3.62434093, 2.92852352, 2.87356464,\n",
       "       3.05400118, 3.93182563, 3.57234564, 3.59456877, 3.0155349 ,\n",
       "       3.08190997, 3.09557761, 3.46885603, 3.19867312, 2.2300144 ,\n",
       "       2.8094027 , 2.50959926, 3.12236492, 3.18635263, 3.08190997,\n",
       "       3.13549422, 2.68102153, 3.39114705, 2.44234704, 3.17805383,\n",
       "       2.69462718, 3.6216707 , 2.96527307, 3.43720782, 2.93916192,\n",
       "       3.43075618, 3.45631668, 1.79175947, 3.59456877, 3.3638416 ,\n",
       "       2.96527307, 2.97041447, 2.91777073, 2.8094027 , 3.15273602,\n",
       "       3.05870707, 3.07269331, 3.03495299, 3.37416871, 3.58629287,\n",
       "       3.34990409, 3.90197267, 3.34990409, 2.52572864, 3.13549422,\n",
       "       2.65324196, 2.12823171, 3.07269331, 3.04927304, 3.26193531,\n",
       "       3.13549422, 3.00071982, 3.2308044 , 3.0155349 , 3.2148678 ,\n",
       "       3.5807373 , 3.0155349 , 3.10906096, 3.31781577, 3.65325228,\n",
       "       3.61091791, 3.10906096, 3.20274644, 3.25037449, 3.03974916,\n",
       "       3.08648664, 2.95491028, 2.4765384 , 3.80666249, 3.79548919,\n",
       "       2.2300144 , 3.8649314 , 3.52341501, 3.12236492, 2.72785283,\n",
       "       3.40452517, 3.21084365, 3.18221184, 3.09104245, 3.04927304,\n",
       "       3.57515069, 2.70136121, 2.67414865, 3.13549422, 2.78501124,\n",
       "       2.4765384 , 3.16547505, 2.69462718, 1.88706965, 3.42751469,\n",
       "       3.93182563, 3.5807373 , 3.07269331, 3.19458313, 3.0056826 ,\n",
       "       3.51749784, 3.02529108, 3.33220451, 2.24070969, 3.8501476 ,\n",
       "       3.12236492, 3.33576958, 3.0155349 , 3.01062089, 3.25037449,\n",
       "       3.16124671, 3.48737508, 2.97041447, 2.27212589, 2.91235066,\n",
       "       3.20680324, 2.66025954, 2.44234704, 2.61739583, 3.25809654,\n",
       "       3.0301337 , 2.76631911, 3.22684399, 3.25809654, 2.76631911,\n",
       "       2.89037176, 2.8094027 , 2.61739583, 3.23867845, 2.77258872,\n",
       "       3.93182563, 2.91777073, 3.10009229, 3.49650756, 2.8094027 ,\n",
       "       3.17387846, 3.01062089, 2.98061864, 3.19047635, 3.64283552,\n",
       "       3.43720782, 3.52929738, 3.09104245, 3.93182563, 2.66722821,\n",
       "       1.79175947, 2.86220088, 2.24070969, 3.39114705, 3.02042489,\n",
       "       3.07269331, 3.83729946, 3.70868208, 3.53805656, 3.03495299,\n",
       "       3.53805656, 3.26956894, 3.93182563, 2.60268969, 2.91235066,\n",
       "       2.97552957, 3.16124671, 3.93182563, 3.21084365, 3.19047635,\n",
       "       3.18221184, 3.75419892, 2.83907846, 3.48431229, 3.61361697,\n",
       "       2.07944154, 3.06339092, 3.04452244, 2.56494936, 3.25809654,\n",
       "       3.93182563, 3.66099425, 3.18221184, 3.74478709, 2.92316158,\n",
       "       2.8507065 , 3.43720782, 3.17387846, 3.03495299, 2.89591194,\n",
       "       2.99071973, 2.99071973, 3.16124671, 3.18635263, 3.53222564,\n",
       "       2.77258872, 2.54160199, 2.98568194, 3.08190997, 2.94443898,\n",
       "       3.02529108, 3.93182563, 2.90142159, 2.85647021, 2.91777073,\n",
       "       2.74727091, 3.52929738, 2.74084002, 3.80220814, 3.5807373 ,\n",
       "       3.06339092, 2.74727091, 2.20827441, 2.54944517, 2.54944517,\n",
       "       2.98061864, 1.98787435, 3.21887582, 2.6461748 , 3.02529108,\n",
       "       3.93182563, 3.14845336, 2.99071973, 3.47196645, 3.07731226,\n",
       "       3.50254988, 3.61630876, 2.72129543, 2.81540872, 3.93182563,\n",
       "       3.06339092, 2.84490938, 2.66722821, 3.93182563, 3.48431229,\n",
       "       2.58776404, 3.0056826 , 3.42751469, 3.48124009, 3.16968558,\n",
       "       2.41591378, 3.22286785, 3.20680324, 3.13549422, 2.69462718,\n",
       "       3.38099467, 3.53222564, 2.6461748 , 2.99573227, 3.31781577,\n",
       "       3.63758616, 3.45946629, 3.16968558, 2.41591378, 3.14415228,\n",
       "       3.23867845, 3.61630876, 3.18221184, 3.04927304, 3.02042489,\n",
       "       2.46809953, 3.16547505, 3.02042489, 3.04927304, 2.360854  ,\n",
       "       3.77963382, 3.90801498, 2.6461748 , 3.05870707, 3.25037449,\n",
       "       2.71469474, 3.12236492, 3.14415228, 3.52636052, 3.09557761,\n",
       "       3.25809654, 3.00071982, 3.5085559 , 2.68102153, 2.77881927,\n",
       "       3.18221184, 3.34990409, 3.0155349 , 3.314186  , 3.34990409,\n",
       "       3.39114705, 3.10009229, 2.98061864, 3.32143241])"
      ]
     },
     "execution_count": 11,
     "metadata": {},
     "output_type": "execute_result"
    }
   ],
   "source": [
    "y_train"
   ]
  },
  {
   "cell_type": "markdown",
   "id": "d7984415",
   "metadata": {},
   "source": [
    "## Training a linear regression model"
   ]
  },
  {
   "cell_type": "code",
   "execution_count": 12,
   "id": "56a78ea9",
   "metadata": {},
   "outputs": [],
   "source": [
    "def train_linear_regression(X, y):\n",
    "    \"\"\"\n",
    "    Train a linear regression model using the normal equation method.\n",
    "    \n",
    "    Parameters:\n",
    "    X : numpy array\n",
    "        Features matrix\n",
    "    y : numpy array\n",
    "        Target variable\n",
    "        \n",
    "    Returns:\n",
    "    tuple: (w0, w) where\n",
    "        w0 is the bias term (intercept)\n",
    "        w contains the feature weights (coefficients)\n",
    "    \"\"\"\n",
    "    # Add a column of ones to X for the bias term\n",
    "    ones = np.ones(X.shape[0])\n",
    "    X = np.column_stack([ones, X])\n",
    "    \n",
    "    # Calculate weights using the normal equation: w = (X^T X)^-1 X^T y\n",
    "    XTX = X.T.dot(X)\n",
    "    XTX_inv = np.linalg.inv(XTX)\n",
    "    w_full = XTX_inv.dot(X.T).dot(y)\n",
    "    \n",
    "    # Split weights into bias (w0) and feature weights (w)\n",
    "    return w_full[0], w_full[1:]"
   ]
  },
  {
   "cell_type": "markdown",
   "id": "abd48f32",
   "metadata": {},
   "source": [
    "## Baseline Model"
   ]
  },
  {
   "cell_type": "code",
   "execution_count": 13,
   "id": "a4c7e889",
   "metadata": {},
   "outputs": [
    {
     "data": {
      "text/plain": [
       "crim       float64\n",
       "zn         float64\n",
       "indus      float64\n",
       "chas         int64\n",
       "nox        float64\n",
       "rm         float64\n",
       "age        float64\n",
       "dis        float64\n",
       "rad          int64\n",
       "tax        float64\n",
       "ptratio    float64\n",
       "b          float64\n",
       "lstat      float64\n",
       "dtype: object"
      ]
     },
     "execution_count": 13,
     "metadata": {},
     "output_type": "execute_result"
    }
   ],
   "source": [
    "df_train.dtypes"
   ]
  },
  {
   "cell_type": "code",
   "execution_count": 14,
   "id": "3104c5df",
   "metadata": {},
   "outputs": [
    {
     "data": {
      "text/plain": [
       "Index(['crim', 'zn', 'indus', 'chas', 'nox', 'rm', 'age', 'dis', 'rad', 'tax',\n",
       "       'ptratio', 'b', 'lstat'],\n",
       "      dtype='object')"
      ]
     },
     "execution_count": 14,
     "metadata": {},
     "output_type": "execute_result"
    }
   ],
   "source": [
    "numerical_cat = df_train.select_dtypes(include=['float64', 'int64']).columns\n",
    "numerical_cat"
   ]
  },
  {
   "cell_type": "code",
   "execution_count": 15,
   "id": "95e8362c",
   "metadata": {},
   "outputs": [
    {
     "data": {
      "text/plain": [
       "['crim',\n",
       " 'zn',\n",
       " 'indus',\n",
       " 'nox',\n",
       " 'rm',\n",
       " 'age',\n",
       " 'dis',\n",
       " 'rad',\n",
       " 'tax',\n",
       " 'ptratio',\n",
       " 'b',\n",
       " 'lstat']"
      ]
     },
     "execution_count": 15,
     "metadata": {},
     "output_type": "execute_result"
    }
   ],
   "source": [
    "base = [col for col in numerical_cat if col != \"chas\"]\n",
    "base"
   ]
  },
  {
   "cell_type": "code",
   "execution_count": 16,
   "id": "1db4118c",
   "metadata": {},
   "outputs": [
    {
     "data": {
      "text/plain": [
       "crim       0\n",
       "zn         0\n",
       "indus      0\n",
       "nox        0\n",
       "rm         0\n",
       "age        0\n",
       "dis        0\n",
       "rad        0\n",
       "tax        0\n",
       "ptratio    0\n",
       "b          0\n",
       "lstat      0\n",
       "dtype: int64"
      ]
     },
     "execution_count": 16,
     "metadata": {},
     "output_type": "execute_result"
    }
   ],
   "source": [
    "df_train[base].isnull().sum()"
   ]
  },
  {
   "cell_type": "code",
   "execution_count": 17,
   "id": "e5d180fb",
   "metadata": {},
   "outputs": [],
   "source": [
    "#fill the missing values with 0\n",
    "X_train = df_train[base].fillna(0).values\n",
    "\n",
    "w0, w = train_linear_regression(X_train, y_train)\n",
    "\n",
    "y_pred = w0 + X_train.dot(w)"
   ]
  },
  {
   "cell_type": "code",
   "execution_count": 18,
   "id": "0019f247",
   "metadata": {},
   "outputs": [
    {
     "data": {
      "text/plain": [
       "<Axes: ylabel='Count'>"
      ]
     },
     "execution_count": 18,
     "metadata": {},
     "output_type": "execute_result"
    },
    {
     "data": {
      "image/png": "[encoded data removed]",
      "text/plain": [
       "<Figure size 640x480 with 1 Axes>"
      ]
     },
     "metadata": {},
     "output_type": "display_data"
    }
   ],
   "source": [
    "sns.histplot(y_pred, color='red', alpha=0.5, bins=50)\n",
    "sns.histplot(y_train, color='blue', alpha=0.5, bins=50)"
   ]
  },
  {
   "cell_type": "code",
   "execution_count": 19,
   "id": "6a3200bd",
   "metadata": {},
   "outputs": [],
   "source": [
    "def rmse(y, y_pred):\n",
    "    \"\"\"\n",
    "    Calculate Root Mean Square Error between actual and predicted values.\n",
    "    \n",
    "    Parameters:\n",
    "    y : numpy array\n",
    "        Actual values\n",
    "    y_pred : numpy array\n",
    "        Predicted values\n",
    "        \n",
    "    Returns:\n",
    "    float: RMSE value\n",
    "    \"\"\"\n",
    "    # Calculate squared error\n",
    "    se = (y - y_pred) ** 2\n",
    "    \n",
    "    # Calculate mean and take square root\n",
    "    mse = se.mean()\n",
    "    return np.sqrt(mse)"
   ]
  },
  {
   "cell_type": "code",
   "execution_count": 20,
   "id": "0b469f86",
   "metadata": {},
   "outputs": [
    {
     "data": {
      "text/plain": [
       "np.float64(0.18060964421204123)"
      ]
     },
     "execution_count": 20,
     "metadata": {},
     "output_type": "execute_result"
    }
   ],
   "source": [
    "rmse(y_train, y_pred)"
   ]
  },
  {
   "cell_type": "markdown",
   "id": "a5c4ad33",
   "metadata": {},
   "source": [
    "## Validating the model"
   ]
  },
  {
   "cell_type": "code",
   "execution_count": 21,
   "id": "5bfe5844",
   "metadata": {},
   "outputs": [],
   "source": [
    "def prepare_X(df):\n",
    "    df_num = df[base]\n",
    "    df_num = df_num.fillna(0)\n",
    "    X = df_num.values\n",
    "    return X"
   ]
  },
  {
   "cell_type": "code",
   "execution_count": 22,
   "id": "b25c6bc6",
   "metadata": {},
   "outputs": [
    {
     "data": {
      "text/plain": [
       "np.float64(0.19073571053188076)"
      ]
     },
     "execution_count": 22,
     "metadata": {},
     "output_type": "execute_result"
    }
   ],
   "source": [
    "X_train = prepare_X(df_train)\n",
    "w0, w = train_linear_regression(X_train, y_train)\n",
    "\n",
    "X_val = prepare_X(df_val)\n",
    "y_pred = w0 + X_val.dot(w)\n",
    "rmse(y_val, y_pred)"
   ]
  },
  {
   "cell_type": "code",
   "execution_count": 23,
   "id": "287146de",
   "metadata": {},
   "outputs": [
    {
     "data": {
      "text/plain": [
       "<matplotlib.legend.Legend at 0x13df06d50>"
      ]
     },
     "execution_count": 23,
     "metadata": {},
     "output_type": "execute_result"
    },
    {
     "data": {
      "image/png": "[encoded data removed]",
      "text/plain": [
       "<Figure size 640x480 with 1 Axes>"
      ]
     },
     "metadata": {},
     "output_type": "display_data"
    }
   ],
   "source": [
    "sns.histplot(y_pred, label='prediction', color='red', alpha=0.5, bins=50)\n",
    "sns.histplot(y_val, label='target', color='blue',  alpha=0.5, bins=50)\n",
    "plt.legend()"
   ]
  },
  {
   "cell_type": "markdown",
   "id": "eab235d5",
   "metadata": {},
   "source": [
    "## Simple Feature Engineering"
   ]
  },
  {
   "cell_type": "code",
   "execution_count": 27,
   "id": "9470fa6d",
   "metadata": {},
   "outputs": [
    {
     "data": {
      "text/html": [
       "<div>\n",
       "<style scoped>\n",
       "    .dataframe tbody tr th:only-of-type {\n",
       "        vertical-align: middle;\n",
       "    }\n",
       "\n",
       "    .dataframe tbody tr th {\n",
       "        vertical-align: top;\n",
       "    }\n",
       "\n",
       "    .dataframe thead th {\n",
       "        text-align: right;\n",
       "    }\n",
       "</style>\n",
       "<table border=\"1\" class=\"dataframe\">\n",
       "  <thead>\n",
       "    <tr style=\"text-align: right;\">\n",
       "      <th></th>\n",
       "      <th>crim</th>\n",
       "      <th>zn</th>\n",
       "      <th>indus</th>\n",
       "      <th>chas</th>\n",
       "      <th>nox</th>\n",
       "      <th>rm</th>\n",
       "      <th>age</th>\n",
       "      <th>dis</th>\n",
       "      <th>rad</th>\n",
       "      <th>tax</th>\n",
       "      <th>ptratio</th>\n",
       "      <th>b</th>\n",
       "      <th>lstat</th>\n",
       "      <th>medv</th>\n",
       "    </tr>\n",
       "  </thead>\n",
       "  <tbody>\n",
       "    <tr>\n",
       "      <th>0</th>\n",
       "      <td>0.00632</td>\n",
       "      <td>18.0</td>\n",
       "      <td>2.31</td>\n",
       "      <td>0</td>\n",
       "      <td>0.538</td>\n",
       "      <td>6.575</td>\n",
       "      <td>65.2</td>\n",
       "      <td>4.0900</td>\n",
       "      <td>1</td>\n",
       "      <td>296.0</td>\n",
       "      <td>15.3</td>\n",
       "      <td>396.90</td>\n",
       "      <td>4.98</td>\n",
       "      <td>24.0</td>\n",
       "    </tr>\n",
       "    <tr>\n",
       "      <th>1</th>\n",
       "      <td>0.02731</td>\n",
       "      <td>0.0</td>\n",
       "      <td>7.07</td>\n",
       "      <td>0</td>\n",
       "      <td>0.469</td>\n",
       "      <td>6.421</td>\n",
       "      <td>78.9</td>\n",
       "      <td>4.9671</td>\n",
       "      <td>2</td>\n",
       "      <td>242.0</td>\n",
       "      <td>17.8</td>\n",
       "      <td>396.90</td>\n",
       "      <td>9.14</td>\n",
       "      <td>21.6</td>\n",
       "    </tr>\n",
       "    <tr>\n",
       "      <th>2</th>\n",
       "      <td>0.02729</td>\n",
       "      <td>0.0</td>\n",
       "      <td>7.07</td>\n",
       "      <td>0</td>\n",
       "      <td>0.469</td>\n",
       "      <td>7.185</td>\n",
       "      <td>61.1</td>\n",
       "      <td>4.9671</td>\n",
       "      <td>2</td>\n",
       "      <td>242.0</td>\n",
       "      <td>17.8</td>\n",
       "      <td>392.83</td>\n",
       "      <td>4.03</td>\n",
       "      <td>34.7</td>\n",
       "    </tr>\n",
       "    <tr>\n",
       "      <th>3</th>\n",
       "      <td>0.03237</td>\n",
       "      <td>0.0</td>\n",
       "      <td>2.18</td>\n",
       "      <td>0</td>\n",
       "      <td>0.458</td>\n",
       "      <td>6.998</td>\n",
       "      <td>45.8</td>\n",
       "      <td>6.0622</td>\n",
       "      <td>3</td>\n",
       "      <td>222.0</td>\n",
       "      <td>18.7</td>\n",
       "      <td>394.63</td>\n",
       "      <td>2.94</td>\n",
       "      <td>33.4</td>\n",
       "    </tr>\n",
       "    <tr>\n",
       "      <th>4</th>\n",
       "      <td>0.06905</td>\n",
       "      <td>0.0</td>\n",
       "      <td>2.18</td>\n",
       "      <td>0</td>\n",
       "      <td>0.458</td>\n",
       "      <td>7.147</td>\n",
       "      <td>54.2</td>\n",
       "      <td>6.0622</td>\n",
       "      <td>3</td>\n",
       "      <td>222.0</td>\n",
       "      <td>18.7</td>\n",
       "      <td>396.90</td>\n",
       "      <td>5.33</td>\n",
       "      <td>36.2</td>\n",
       "    </tr>\n",
       "    <tr>\n",
       "      <th>...</th>\n",
       "      <td>...</td>\n",
       "      <td>...</td>\n",
       "      <td>...</td>\n",
       "      <td>...</td>\n",
       "      <td>...</td>\n",
       "      <td>...</td>\n",
       "      <td>...</td>\n",
       "      <td>...</td>\n",
       "      <td>...</td>\n",
       "      <td>...</td>\n",
       "      <td>...</td>\n",
       "      <td>...</td>\n",
       "      <td>...</td>\n",
       "      <td>...</td>\n",
       "    </tr>\n",
       "    <tr>\n",
       "      <th>501</th>\n",
       "      <td>0.06263</td>\n",
       "      <td>0.0</td>\n",
       "      <td>11.93</td>\n",
       "      <td>0</td>\n",
       "      <td>0.573</td>\n",
       "      <td>6.593</td>\n",
       "      <td>69.1</td>\n",
       "      <td>2.4786</td>\n",
       "      <td>1</td>\n",
       "      <td>273.0</td>\n",
       "      <td>21.0</td>\n",
       "      <td>391.99</td>\n",
       "      <td>9.67</td>\n",
       "      <td>22.4</td>\n",
       "    </tr>\n",
       "    <tr>\n",
       "      <th>502</th>\n",
       "      <td>0.04527</td>\n",
       "      <td>0.0</td>\n",
       "      <td>11.93</td>\n",
       "      <td>0</td>\n",
       "      <td>0.573</td>\n",
       "      <td>6.120</td>\n",
       "      <td>76.7</td>\n",
       "      <td>2.2875</td>\n",
       "      <td>1</td>\n",
       "      <td>273.0</td>\n",
       "      <td>21.0</td>\n",
       "      <td>396.90</td>\n",
       "      <td>9.08</td>\n",
       "      <td>20.6</td>\n",
       "    </tr>\n",
       "    <tr>\n",
       "      <th>503</th>\n",
       "      <td>0.06076</td>\n",
       "      <td>0.0</td>\n",
       "      <td>11.93</td>\n",
       "      <td>0</td>\n",
       "      <td>0.573</td>\n",
       "      <td>6.976</td>\n",
       "      <td>91.0</td>\n",
       "      <td>2.1675</td>\n",
       "      <td>1</td>\n",
       "      <td>273.0</td>\n",
       "      <td>21.0</td>\n",
       "      <td>396.90</td>\n",
       "      <td>5.64</td>\n",
       "      <td>23.9</td>\n",
       "    </tr>\n",
       "    <tr>\n",
       "      <th>504</th>\n",
       "      <td>0.10959</td>\n",
       "      <td>0.0</td>\n",
       "      <td>11.93</td>\n",
       "      <td>0</td>\n",
       "      <td>0.573</td>\n",
       "      <td>6.794</td>\n",
       "      <td>89.3</td>\n",
       "      <td>2.3889</td>\n",
       "      <td>1</td>\n",
       "      <td>273.0</td>\n",
       "      <td>21.0</td>\n",
       "      <td>393.45</td>\n",
       "      <td>6.48</td>\n",
       "      <td>22.0</td>\n",
       "    </tr>\n",
       "    <tr>\n",
       "      <th>505</th>\n",
       "      <td>0.04741</td>\n",
       "      <td>0.0</td>\n",
       "      <td>11.93</td>\n",
       "      <td>0</td>\n",
       "      <td>0.573</td>\n",
       "      <td>6.030</td>\n",
       "      <td>80.8</td>\n",
       "      <td>2.5050</td>\n",
       "      <td>1</td>\n",
       "      <td>273.0</td>\n",
       "      <td>21.0</td>\n",
       "      <td>396.90</td>\n",
       "      <td>7.88</td>\n",
       "      <td>11.9</td>\n",
       "    </tr>\n",
       "  </tbody>\n",
       "</table>\n",
       "<p>506 rows × 14 columns</p>\n",
       "</div>"
      ],
      "text/plain": [
       "        crim    zn  indus  chas    nox     rm   age     dis  rad    tax  \\\n",
       "0    0.00632  18.0   2.31     0  0.538  6.575  65.2  4.0900    1  296.0   \n",
       "1    0.02731   0.0   7.07     0  0.469  6.421  78.9  4.9671    2  242.0   \n",
       "2    0.02729   0.0   7.07     0  0.469  7.185  61.1  4.9671    2  242.0   \n",
       "3    0.03237   0.0   2.18     0  0.458  6.998  45.8  6.0622    3  222.0   \n",
       "4    0.06905   0.0   2.18     0  0.458  7.147  54.2  6.0622    3  222.0   \n",
       "..       ...   ...    ...   ...    ...    ...   ...     ...  ...    ...   \n",
       "501  0.06263   0.0  11.93     0  0.573  6.593  69.1  2.4786    1  273.0   \n",
       "502  0.04527   0.0  11.93     0  0.573  6.120  76.7  2.2875    1  273.0   \n",
       "503  0.06076   0.0  11.93     0  0.573  6.976  91.0  2.1675    1  273.0   \n",
       "504  0.10959   0.0  11.93     0  0.573  6.794  89.3  2.3889    1  273.0   \n",
       "505  0.04741   0.0  11.93     0  0.573  6.030  80.8  2.5050    1  273.0   \n",
       "\n",
       "     ptratio       b  lstat  medv  \n",
       "0       15.3  396.90   4.98  24.0  \n",
       "1       17.8  396.90   9.14  21.6  \n",
       "2       17.8  392.83   4.03  34.7  \n",
       "3       18.7  394.63   2.94  33.4  \n",
       "4       18.7  396.90   5.33  36.2  \n",
       "..       ...     ...    ...   ...  \n",
       "501     21.0  391.99   9.67  22.4  \n",
       "502     21.0  396.90   9.08  20.6  \n",
       "503     21.0  396.90   5.64  23.9  \n",
       "504     21.0  393.45   6.48  22.0  \n",
       "505     21.0  396.90   7.88  11.9  \n",
       "\n",
       "[506 rows x 14 columns]"
      ]
     },
     "execution_count": 27,
     "metadata": {},
     "output_type": "execute_result"
    }
   ],
   "source": [
    "df"
   ]
  },
  {
   "cell_type": "code",
   "execution_count": null,
   "id": "909e8a25",
   "metadata": {},
   "outputs": [],
   "source": []
  }
 ],
 "metadata": {
  "kernelspec": {
   "display_name": "ml-zoomcamp-2025",
   "language": "python",
   "name": "python3"
  },
  "language_info": {
   "codemirror_mode": {
    "name": "ipython",
    "version": 3
   },
   "file_extension": ".py",
   "mimetype": "text/x-python",
   "name": "python",
   "nbconvert_exporter": "python",
   "pygments_lexer": "ipython3",
   "version": "3.11.6"
  }
 },
 "nbformat": 4,
 "nbformat_minor": 5
}
